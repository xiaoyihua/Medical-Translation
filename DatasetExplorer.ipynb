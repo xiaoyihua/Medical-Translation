{
 "cells": [
  {
   "cell_type": "code",
   "execution_count": null,
   "metadata": {},
   "outputs": [],
   "source": [
    "import pandas as pd\n",
    "import numpy as np\n",
    "from pathlib import Path\n",
    "from io import StringIO\n",
    "from lxml import etree\n",
    "import xml.etree.ElementTree as ET\n",
    "import os\n",
    "import re\n",
    "import nltk\n",
    "import matplotlib.pyplot as plt\n",
    "from nltk.tokenize import sent_tokenize"
   ]
  },
  {
   "cell_type": "code",
   "execution_count": null,
   "metadata": {},
   "outputs": [],
   "source": [
    "def format_xml(path):\n",
    "    txt = Path(path).read_text()\n",
    "    xml_data = StringIO(txt)\n",
    "\n",
    "    df = pd.read_xml(xml_data, \n",
    "                    xpath=\"//dc:title\", \n",
    "                    namespaces={\"dc\": \"http://purl.org/dc/elements/1.1/\", \"dcterms\":\"http://purl.org/dc/terms/\", \n",
    "                                                            \"xsi\": \"http://www.w3.org/2001/XMLSchema-instance\"},\n",
    "                    parser=\"lxml\")\n",
    "    df = df.convert_dtypes(convert_string=True)\n",
    "\n",
    "    txt = Path(path).read_text()\n",
    "    xml_data = StringIO(txt)\n",
    "\n",
    "    df2 = pd.read_xml(xml_data, \n",
    "                    xpath=\"//dc:description\", \n",
    "                    namespaces={\"dc\": \"http://purl.org/dc/elements/1.1/\", \"dcterms\":\"http://purl.org/dc/terms/\", \n",
    "                                                            \"xsi\": \"http://www.w3.org/2001/XMLSchema-instance\"},\n",
    "                    parser=\"lxml\")\n",
    "    \n",
    "    df2 = df2.convert_dtypes(convert_string=True)\n",
    "    df = df.merge(df2, on='lang', how='left')\n",
    "\n",
    "    df.set_index('lang', inplace=True)\n",
    "    data = {'title_en': [df['title']['en']], 'title_es': [df['title']['es']], 'description_en': [df['description']['en']], 'description_es': [df['description']['es']]}\n",
    "    df = pd.DataFrame.from_dict(data)\n",
    "\n",
    "    df['Source'] = 'MedlinePlus'\n",
    "    df['File'] = f'{path}'\n",
    "\n",
    "    return df"
   ]
  },
  {
   "cell_type": "code",
   "execution_count": null,
   "metadata": {},
   "outputs": [],
   "source": [
    "def create_dataframes(dir):\n",
    "    directory = dir\n",
    "\n",
    "    dataframes = []\n",
    "    counter = 0\n",
    "\n",
    "    for filename in os.listdir(directory):\n",
    "        f = os.path.join(directory, filename)\n",
    "        # checking if it is a file\n",
    "        if os.path.isfile(f):\n",
    "            try:\n",
    "                df = format_xml(f)\n",
    "                dataframes.append(df)\n",
    "            except (UnicodeDecodeError, ValueError, KeyError):\n",
    "                print(f)\n",
    "                counter += 1\n",
    "\n",
    "    print(counter)\n",
    "\n",
    "    final = pd.concat(dataframes, ignore_index=True)\n",
    "    return final"
   ]
  },
  {
   "cell_type": "code",
   "execution_count": null,
   "metadata": {},
   "outputs": [],
   "source": [
    "# final.to_csv('Pubmed.csv', index=False)\n",
    "final = create_dataframes('Pubmed')"
   ]
  },
  {
   "cell_type": "code",
   "execution_count": null,
   "metadata": {},
   "outputs": [],
   "source": [
    "final['NumWordsEn'] = final.apply(lambda x: len((str(x['description_en'])).split()), axis=1)\n",
    "final['NumWordsEs'] = final.apply(lambda x: len((str(x['description_es'])).split()), axis=1)"
   ]
  },
  {
   "cell_type": "code",
   "execution_count": null,
   "metadata": {},
   "outputs": [],
   "source": [
    "print(final)"
   ]
  },
  {
   "cell_type": "code",
   "execution_count": null,
   "metadata": {},
   "outputs": [],
   "source": [
    "final['NumWordsEn'].hist()\n",
    "\n",
    "# add labels and title\n",
    "plt.xlabel('Num')\n",
    "plt.ylabel('Frequency')\n",
    "plt.title('Distribution of Words En Pubmed')"
   ]
  },
  {
   "cell_type": "code",
   "execution_count": null,
   "metadata": {},
   "outputs": [],
   "source": [
    "final['NumWordsEs'].hist()\n",
    "\n",
    "# add labels and title\n",
    "plt.xlabel('Num')\n",
    "plt.ylabel('Frequency')\n",
    "plt.title('Distribution of Words Es Pubmed')"
   ]
  }
 ],
 "metadata": {
  "kernelspec": {
   "display_name": "Python 3",
   "language": "python",
   "name": "python3"
  },
  "language_info": {
   "codemirror_mode": {
    "name": "ipython",
    "version": 3
   },
   "file_extension": ".py",
   "mimetype": "text/x-python",
   "name": "python",
   "nbconvert_exporter": "python",
   "pygments_lexer": "ipython3",
   "version": "3.10.10"
  }
 },
 "nbformat": 4,
 "nbformat_minor": 2
}
